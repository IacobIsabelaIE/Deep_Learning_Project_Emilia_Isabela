{
 "cells": [
  {
   "cell_type": "code",
   "execution_count": null,
   "metadata": {},
   "outputs": [],
   "source": [
    "import os\n",
    "import datetime\n",
    "import numpy as np\n",
    "import matplotlib.pyplot as plt\n",
    "\n",
    "import tensorflow as tf\n",
    "from tensorflow.data import AUTOTUNE\n",
    "from tensorflow.keras import layers, models, utils\n",
    "from tensorflow.keras.applications.resnet import ResNet50, preprocess_input\n",
    "\n",
    "from config import DATASETgen, save_path\n",
    "from process_data import load_data\n",
    "\n",
    "utils.set_random_seed(0)\n"
   ]
  },
  {
   "cell_type": "code",
   "execution_count": null,
   "metadata": {},
   "outputs": [],
   "source": [
    "batch_size = 32\n",
    "train_dataset, val_dataset, test_dataset, total_train_samples, total_val_samples, total_test_samples = load_data(DATASETgen,\n",
    "                                                                                                                 target_size=(224, 224),\n",
    "                                                                                                                 batch_size=batch_size,\n",
    "                                                                                                                 num_classes=2)\n",
    "\n",
    "\n",
    "train_dataset = train_dataset.map(lambda x, y: (preprocess_input(x), tf.argmax(y, axis=1)),\n",
    "                                  num_parallel_calls=AUTOTUNE).prefetch(AUTOTUNE)\n",
    "\n",
    "val_dataset = val_dataset.map(lambda x, y: (preprocess_input(x), tf.argmax(y, axis=1)),\n",
    "                              num_parallel_calls=AUTOTUNE).prefetch(AUTOTUNE)\n",
    "\n",
    "test_dataset = test_dataset.map(lambda x, y: (preprocess_input(x), tf.argmax(y, axis=1)),\n",
    "                                num_parallel_calls=AUTOTUNE).prefetch(AUTOTUNE)"
   ]
  },
  {
   "cell_type": "code",
   "execution_count": null,
   "metadata": {},
   "outputs": [],
   "source": [
    "base_model = ResNet50(weights=\"imagenet\",\n",
    "                      include_top=False,\n",
    "                      input_shape=(224, 224, 3))\n",
    "base_model.trainable = False\n",
    "\n",
    "resnet = models.Sequential([\n",
    "    base_model,\n",
    "    layers.GlobalAveragePooling2D(),\n",
    "    layers.Dense(256, activation=\"relu\"),\n",
    "    layers.Dropout(0.5),\n",
    "    layers.Dense(1, activation='sigmoid')\n",
    "])"
   ]
  },
  {
   "cell_type": "code",
   "execution_count": null,
   "metadata": {},
   "outputs": [],
   "source": [
    "resnet.summary(show_trainable=True)"
   ]
  },
  {
   "cell_type": "code",
   "execution_count": null,
   "metadata": {},
   "outputs": [],
   "source": [
    "resnet.compile(\n",
    "    optimizer=keras.optimizers.SGD(),\n",
    "    loss=keras.losses.BinaryCrossentropy(),\n",
    "    metrics=[\"accuracy\"]\n",
    ")"
   ]
  },
  {
   "cell_type": "code",
   "execution_count": null,
   "metadata": {},
   "outputs": [],
   "source": [
    "model = 'resnet50'\n",
    "mode = 'transfer-learning'\n",
    "epochs = 50\n",
    "batch_size = 32\n",
    "date_time = datetime.datetime.now().strftime(\"%Y-%m-%d_%H-%M-%S\")\n",
    "filepath = os.path.join(save_path, f'{model}_{mode}_{epochs}ep_{batch_size}bs_{date_time}.keras')\n",
    "\n",
    "callbacks = [keras.callbacks.ModelCheckpoint(filepath=filepath, save_best_only=True),\n",
    "             keras.callbacks.ReduceLROnPlateau(monitor='val_loss', factor=0.1, patience=2),\n",
    "             keras.callbacks.EarlyStopping(patience=5)\n",
    "             ]\n",
    "\n",
    "steps_per_epoch = total_train_samples // batch_size\n",
    "validation_steps = total_val_samples // batch_size\n",
    "\n",
    "history = resnet.fit(\n",
    "    train_dataset,\n",
    "    validation_data=val_dataset,\n",
    "    epochs=epochs,\n",
    "    callbacks=callbacks,\n",
    "    steps_per_epoch=steps_per_epoch,\n",
    "    validation_steps=validation_steps\n",
    ")\n",
    "\n",
    "np.save(filepath.replace('.keras', '_history.npy'), history.history)"
   ]
  },
  {
   "cell_type": "code",
   "execution_count": null,
   "metadata": {},
   "outputs": [],
   "source": [
    "accuracy = history.history[\"accuracy\"]\n",
    "val_accuracy = history.history[\"val_accuracy\"]\n",
    "loss = history.history[\"loss\"]\n",
    "val_loss = history.history[\"val_loss\"]\n",
    "epochs = range(1, len(accuracy) + 1)\n",
    "plt.plot(epochs, accuracy, \"bo\", label=\"Training accuracy\")\n",
    "plt.plot(epochs, val_accuracy, \"b\", label=\"Validation accuracy\")\n",
    "plt.title(\"Training and validation accuracy\")\n",
    "plt.legend()\n",
    "plt.figure()\n",
    "plt.plot(epochs, loss, \"bo\", label=\"Training loss\")\n",
    "plt.plot(epochs, val_loss, \"b\", label=\"Validation loss\")\n",
    "plt.title(\"Training and validation loss\")\n",
    "plt.legend()\n",
    "plt.show()"
   ]
  },
  {
   "cell_type": "code",
   "execution_count": null,
   "metadata": {},
   "outputs": [],
   "source": [
    "testing_steps = total_test_samples // batch_size\n",
    "test_loss, test_acc = resnet.evaluate(test_dataset,\n",
    "                                            steps=testing_steps)\n",
    "print(f\"Test loss: {test_loss:.3f}\")\n",
    "print(f\"Test accuracy: {test_acc:.3f}\")"
   ]
  }
 ],
 "metadata": {
  "language_info": {
   "name": "python"
  }
 },
 "nbformat": 4,
 "nbformat_minor": 2
}
