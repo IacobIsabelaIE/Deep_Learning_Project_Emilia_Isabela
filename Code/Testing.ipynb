{
 "cells": [
  {
   "cell_type": "code",
   "execution_count": null,
   "metadata": {},
   "outputs": [],
   "source": [
    "import tensorflow as tf\n",
    "from tensorflow import keras\n",
    "from tensorflow.data import AUTOTUNE\n",
    "from tensorflow.keras.applications.resnet import preprocess_input as resnet_preprocess_input\n",
    "from tensorflow.keras.applications.convnext import preprocess_input as convnext_preprocess_input\n",
    "\n",
    "from config import DATASETgen, save_path\n",
    "from blur import load_data as load_data_blur\n",
    "from jpeg import load_data as load_data_jpeg\n",
    "from blur_jpeg import load_data as load_data_blur_jpeg\n",
    "\n"
   ]
  },
  {
   "cell_type": "markdown",
   "metadata": {},
   "source": [
    "### Custom"
   ]
  },
  {
   "cell_type": "code",
   "execution_count": null,
   "metadata": {},
   "outputs": [],
   "source": [
    "loaded_custom = keras.models.load_model(save_path + 'custom_custom_50ep_2024-12-29_22-07-12.keras')\n",
    "batch_size = 32"
   ]
  },
  {
   "cell_type": "markdown",
   "metadata": {},
   "source": [
    "blur"
   ]
  },
  {
   "cell_type": "code",
   "execution_count": null,
   "metadata": {},
   "outputs": [],
   "source": [
    "test_dataset_blur, total_test_samples = load_data_blur(DATASETgen,\n",
    "                                             target_size=(32, 32),\n",
    "                                             batch_size=batch_size,\n",
    "                                             num_classes=2)\n",
    "\n",
    "\n",
    "test_dataset_blur = test_dataset_blur.map(lambda x, y: (x, tf.argmax(y, axis=1)),\n",
    "                                          num_parallel_calls=AUTOTUNE).prefetch(AUTOTUNE)\n",
    "\n",
    "testing_steps = total_test_samples // batch_size\n",
    "test_loss, test_acc = loaded_custom.evaluate(test_dataset_blur,\n",
    "                                             steps=testing_steps)\n",
    "print(f\"Test loss: {test_loss:.3f}\")\n",
    "print(f\"Test accuracy: {test_acc:.3f}\")"
   ]
  },
  {
   "cell_type": "markdown",
   "metadata": {},
   "source": [
    "jpeg"
   ]
  },
  {
   "cell_type": "code",
   "execution_count": null,
   "metadata": {},
   "outputs": [],
   "source": [
    "test_dataset_jpeg, total_test_samples = load_data_jpeg(DATASETgen,\n",
    "                                             target_size=(32, 32),\n",
    "                                             batch_size=batch_size,\n",
    "                                             num_classes=2)\n",
    "\n",
    "\n",
    "test_dataset_jpeg = test_dataset_jpeg.map(lambda x, y: (x, tf.argmax(y, axis=1)),\n",
    "                                          num_parallel_calls=AUTOTUNE).prefetch(AUTOTUNE)\n",
    "\n",
    "testing_steps = total_test_samples // batch_size\n",
    "test_loss, test_acc = loaded_custom.evaluate(test_dataset_jpeg,\n",
    "                                             steps=testing_steps)\n",
    "print(f\"Test loss: {test_loss:.3f}\")\n",
    "print(f\"Test accuracy: {test_acc:.3f}\")"
   ]
  },
  {
   "cell_type": "markdown",
   "metadata": {},
   "source": [
    "blur+jpeg"
   ]
  },
  {
   "cell_type": "code",
   "execution_count": null,
   "metadata": {},
   "outputs": [],
   "source": [
    "test_dataset_blur_jpeg, total_test_samples = load_data_blur_jpeg(DATASETgen,\n",
    "                                             target_size=(32, 32),\n",
    "                                             batch_size=batch_size,\n",
    "                                             num_classes=2)\n",
    "\n",
    "\n",
    "test_dataset_blur_jpeg = test_dataset_blur_jpeg.map(lambda x, y: (x, tf.argmax(y, axis=1)),\n",
    "                                                    num_parallel_calls=AUTOTUNE).prefetch(AUTOTUNE)\n",
    "\n",
    "testing_steps = total_test_samples // batch_size\n",
    "test_loss, test_acc = loaded_custom.evaluate(test_dataset_blur_jpeg,\n",
    "                                             steps=testing_steps)\n",
    "print(f\"Test loss: {test_loss:.3f}\")\n",
    "print(f\"Test accuracy: {test_acc:.3f}\")"
   ]
  },
  {
   "cell_type": "code",
   "execution_count": null,
   "metadata": {},
   "outputs": [],
   "source": [
    "test_dataset_blur_jpeg, total_test_samples = load_data_blur_jpeg(DATASETgen,\n",
    "                                             target_size=(32, 32),\n",
    "                                             batch_size=batch_size,\n",
    "                                             num_classes=2,\n",
    "                                             blur_prob=0.1, \n",
    "                                             jpeg_prob=0.1)\n",
    "\n",
    "\n",
    "test_dataset_blur_jpeg = test_dataset_blur_jpeg.map(lambda x, y: (x, tf.argmax(y, axis=1)),\n",
    "                                                    num_parallel_calls=AUTOTUNE).prefetch(AUTOTUNE)\n",
    "\n",
    "testing_steps = total_test_samples // batch_size\n",
    "test_loss, test_acc = loaded_custom.evaluate(test_dataset_blur_jpeg,\n",
    "                                            steps=testing_steps)\n",
    "print(f\"Test loss: {test_loss:.3f}\")\n",
    "print(f\"Test accuracy: {test_acc:.3f}\")"
   ]
  },
  {
   "cell_type": "markdown",
   "metadata": {},
   "source": [
    "### ResNet50"
   ]
  },
  {
   "cell_type": "code",
   "execution_count": null,
   "metadata": {},
   "outputs": [],
   "source": [
    "loaded_resnet = keras.models.load_model(save_path + 'resnet50_transfer-learning_50ep_32bs_2024-12-27_13-28-12.keras')\n",
    "batch_size = 32"
   ]
  },
  {
   "cell_type": "markdown",
   "metadata": {},
   "source": [
    "blur"
   ]
  },
  {
   "cell_type": "code",
   "execution_count": null,
   "metadata": {},
   "outputs": [],
   "source": [
    "test_dataset_blur, total_test_samples = load_data_blur(DATASETgen,\n",
    "                                             target_size=(224, 224),\n",
    "                                             batch_size=batch_size,\n",
    "                                             num_classes=2)\n",
    "\n",
    "\n",
    "test_dataset_blur = test_dataset_blur.map(lambda x, y: (resnet_preprocess_input(x), tf.argmax(y, axis=1)),\n",
    "                                num_parallel_calls=AUTOTUNE).prefetch(AUTOTUNE)\n",
    "\n",
    "testing_steps = total_test_samples // batch_size\n",
    "test_loss, test_acc = loaded_resnet.evaluate(test_dataset_blur,\n",
    "                                            steps=testing_steps)\n",
    "print(f\"Test loss: {test_loss:.3f}\")\n",
    "print(f\"Test accuracy: {test_acc:.3f}\")"
   ]
  },
  {
   "cell_type": "markdown",
   "metadata": {},
   "source": [
    "jpeg"
   ]
  },
  {
   "cell_type": "code",
   "execution_count": null,
   "metadata": {},
   "outputs": [],
   "source": [
    "test_dataset_jpeg, total_test_samples = load_data_jpeg(DATASETgen,\n",
    "                                             target_size=(224, 224),\n",
    "                                             batch_size=batch_size,\n",
    "                                             num_classes=2)\n",
    "\n",
    "\n",
    "test_dataset_jpeg = test_dataset_jpeg.map(lambda x, y: (resnet_preprocess_input(x), tf.argmax(y, axis=1)),\n",
    "                                num_parallel_calls=AUTOTUNE).prefetch(AUTOTUNE)\n",
    "\n",
    "testing_steps = total_test_samples // batch_size\n",
    "test_loss, test_acc = loaded_resnet.evaluate(test_dataset_jpeg,\n",
    "                                            steps=testing_steps)\n",
    "print(f\"Test loss: {test_loss:.3f}\")\n",
    "print(f\"Test accuracy: {test_acc:.3f}\")"
   ]
  },
  {
   "cell_type": "markdown",
   "metadata": {},
   "source": [
    "blur+jpeg"
   ]
  },
  {
   "cell_type": "code",
   "execution_count": null,
   "metadata": {},
   "outputs": [],
   "source": [
    "test_dataset_blur_jpeg, total_test_samples = load_data_blur_jpeg(DATASETgen,\n",
    "                                             target_size=(224, 224),\n",
    "                                             batch_size=batch_size,\n",
    "                                             num_classes=2)\n",
    "\n",
    "\n",
    "test_dataset_blur_jpeg = test_dataset_blur_jpeg.map(lambda x, y: (resnet_preprocess_input(x), tf.argmax(y, axis=1)),\n",
    "                                num_parallel_calls=AUTOTUNE).prefetch(AUTOTUNE)\n",
    "\n",
    "testing_steps = total_test_samples // batch_size\n",
    "test_loss, test_acc = loaded_resnet.evaluate(test_dataset_blur_jpeg,\n",
    "                                            steps=testing_steps)\n",
    "print(f\"Test loss: {test_loss:.3f}\")\n",
    "print(f\"Test accuracy: {test_acc:.3f}\")"
   ]
  },
  {
   "cell_type": "code",
   "execution_count": null,
   "metadata": {},
   "outputs": [],
   "source": [
    "test_dataset_blur_jpeg, total_test_samples = load_data_blur_jpeg(DATASETgen,\n",
    "                                             target_size=(224, 224),\n",
    "                                             batch_size=batch_size,\n",
    "                                             num_classes=2,\n",
    "                                             blur_prob=0.1, \n",
    "                                             jpeg_prob=0.1)\n",
    "\n",
    "\n",
    "test_dataset_blur_jpeg = test_dataset_blur_jpeg.map(lambda x, y: (resnet_preprocess_input(x), tf.argmax(y, axis=1)),\n",
    "                                num_parallel_calls=AUTOTUNE).prefetch(AUTOTUNE)\n",
    "\n",
    "testing_steps = total_test_samples // batch_size\n",
    "test_loss, test_acc = loaded_resnet.evaluate(test_dataset_blur_jpeg,\n",
    "                                            steps=testing_steps)\n",
    "print(f\"Test loss: {test_loss:.3f}\")\n",
    "print(f\"Test accuracy: {test_acc:.3f}\")"
   ]
  },
  {
   "cell_type": "markdown",
   "metadata": {},
   "source": [
    "### ConvNeXtSmall"
   ]
  },
  {
   "cell_type": "code",
   "execution_count": null,
   "metadata": {},
   "outputs": [],
   "source": [
    "loaded_conv = keras.models.load_model(save_path + 'convnext-small_transfer-learning_50ep_2024-12-28_18-16-35.keras')\n",
    "batch_size = 32"
   ]
  },
  {
   "cell_type": "markdown",
   "metadata": {},
   "source": [
    "blur"
   ]
  },
  {
   "cell_type": "code",
   "execution_count": null,
   "metadata": {},
   "outputs": [],
   "source": [
    "test_dataset_blur, total_test_samples = load_data_blur(DATASETgen,\n",
    "                                             target_size=(224, 224),\n",
    "                                             batch_size=batch_size,\n",
    "                                             num_classes=2)\n",
    "\n",
    "\n",
    "test_dataset_blur = test_dataset_blur.map(lambda x, y: (convnext_preprocess_input(x), tf.argmax(y, axis=1)),\n",
    "                                num_parallel_calls=AUTOTUNE).prefetch(AUTOTUNE)\n",
    "\n",
    "testing_steps = total_test_samples // batch_size\n",
    "test_loss, test_acc = loaded_conv.evaluate(test_dataset_blur,\n",
    "                                            steps=testing_steps)\n",
    "print(f\"Test loss: {test_loss:.3f}\")\n",
    "print(f\"Test accuracy: {test_acc:.3f}\")"
   ]
  },
  {
   "cell_type": "markdown",
   "metadata": {},
   "source": [
    "jpeg"
   ]
  },
  {
   "cell_type": "code",
   "execution_count": null,
   "metadata": {},
   "outputs": [],
   "source": [
    "test_dataset_jpeg, total_test_samples = load_data_jpeg(DATASETgen,\n",
    "                                             target_size=(224, 224),\n",
    "                                             batch_size=batch_size,\n",
    "                                             num_classes=2)\n",
    "\n",
    "\n",
    "test_dataset_jpeg = test_dataset_jpeg.map(lambda x, y: (convnext_preprocess_input(x), tf.argmax(y, axis=1)),\n",
    "                                num_parallel_calls=AUTOTUNE).prefetch(AUTOTUNE)\n",
    "\n",
    "testing_steps = total_test_samples // batch_size\n",
    "test_loss, test_acc = loaded_conv.evaluate(test_dataset_jpeg,\n",
    "                                            steps=testing_steps)\n",
    "print(f\"Test loss: {test_loss:.3f}\")\n",
    "print(f\"Test accuracy: {test_acc:.3f}\")"
   ]
  },
  {
   "cell_type": "markdown",
   "metadata": {},
   "source": [
    "blur+jpeg"
   ]
  },
  {
   "cell_type": "code",
   "execution_count": null,
   "metadata": {},
   "outputs": [],
   "source": [
    "test_dataset_blur_jpeg, total_test_samples = load_data_blur_jpeg(DATASETgen,\n",
    "                                             target_size=(224, 224),\n",
    "                                             batch_size=batch_size,\n",
    "                                             num_classes=2)\n",
    "\n",
    "\n",
    "test_dataset_blur_jpeg = test_dataset_blur_jpeg.map(lambda x, y: (convnext_preprocess_input(x), tf.argmax(y, axis=1)),\n",
    "                                num_parallel_calls=AUTOTUNE).prefetch(AUTOTUNE)\n",
    "\n",
    "testing_steps = total_test_samples // batch_size\n",
    "test_loss, test_acc = loaded_conv.evaluate(test_dataset_blur_jpeg,\n",
    "                                            steps=testing_steps)\n",
    "print(f\"Test loss: {test_loss:.3f}\")\n",
    "print(f\"Test accuracy: {test_acc:.3f}\")"
   ]
  },
  {
   "cell_type": "code",
   "execution_count": null,
   "metadata": {},
   "outputs": [],
   "source": [
    "test_dataset_blur_jpeg, total_test_samples = load_data_blur_jpeg(DATASETgen,\n",
    "                                             target_size=(224, 224),\n",
    "                                             batch_size=batch_size,\n",
    "                                             num_classes=2,\n",
    "                                             blur_prob=0.1, \n",
    "                                             jpeg_prob=0.1)\n",
    "\n",
    "\n",
    "test_dataset_blur_jpeg = test_dataset_blur_jpeg.map(lambda x, y: (convnext_preprocess_input(x), tf.argmax(y, axis=1)),\n",
    "                                num_parallel_calls=AUTOTUNE).prefetch(AUTOTUNE)\n",
    "\n",
    "testing_steps = total_test_samples // batch_size\n",
    "test_loss, test_acc = loaded_conv.evaluate(test_dataset_blur_jpeg,\n",
    "                                            steps=testing_steps)\n",
    "print(f\"Test loss: {test_loss:.3f}\")\n",
    "print(f\"Test accuracy: {test_acc:.3f}\")"
   ]
  }
 ],
 "metadata": {
  "language_info": {
   "name": "python"
  }
 },
 "nbformat": 4,
 "nbformat_minor": 2
}
